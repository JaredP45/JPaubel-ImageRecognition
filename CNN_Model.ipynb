{
 "cells": [
  {
   "cell_type": "code",
   "execution_count": 6,
   "metadata": {},
   "outputs": [
    {
     "name": "stdout",
     "output_type": "stream",
     "text": [
      "<keras.engine.sequential.Sequential object at 0x000001701D4B92B0>\n"
     ]
    }
   ],
   "source": [
    "# baseline model for the dogs vs cats dataset\n",
    "from keras.layers import Conv2D\n",
    "from keras.layers import Dense\n",
    "from keras.layers import Flatten\n",
    "from keras.layers import MaxPooling2D\n",
    "from keras.models import Sequential\n",
    "from tensorflow.keras.optimizers import SGD\n",
    "\n",
    "\n",
    "# define cnn model\n",
    "def define_model():\n",
    "    model = Sequential()\n",
    "    model.add(Conv2D(32, (3, 3), activation='relu', kernel_initializer='he_uniform', padding='same',\n",
    "                     input_shape=(200, 200, 3)))\n",
    "    model.add(MaxPooling2D((2, 2)))\n",
    "    model.add(Flatten())\n",
    "    model.add(Dense(128, activation='relu', kernel_initializer='he_uniform'))\n",
    "    model.add(Dense(1, activation='sigmoid'))\n",
    "    # compile model\n",
    "    opt = SGD(learning_rate=0.001, momentum=0.9)\n",
    "    model.compile(optimizer=opt, loss='binary_crossentropy', metrics=['accuracy'])\n",
    "    return model\n",
    "\n",
    "\n",
    "print(define_model())\n",
    "\n",
    "\n",
    "# # plot diagnostic learning curves\n",
    "# def summarize_diagnostics(history):\n",
    "#     # plot loss\n",
    "#     pyplot.subplot(211)\n",
    "#     pyplot.title('Cross Entropy Loss')\n",
    "#     pyplot.plot(history.history['loss'], color='blue', label='train')\n",
    "#     pyplot.plot(history.history['val_loss'], color='orange', label='test')\n",
    "#     # plot accuracy\n",
    "#     pyplot.subplot(212)\n",
    "#     pyplot.title('Classification Accuracy')\n",
    "#     pyplot.plot(history.history['accuracy'], color='blue', label='train')\n",
    "#     pyplot.plot(history.history['val_accuracy'], color='orange', label='test')\n",
    "#     # save plot to file\n",
    "#     filename = sys.argv[0].split('/')[-1]\n",
    "#     pyplot.savefig(filename + '_plot.png')\n",
    "#     pyplot.close()\n",
    "\n",
    "\n",
    "# # run the test harness for evaluating a model\n",
    "# def run_test_harness():\n",
    "#     # define model\n",
    "#     model = define_model()\n",
    "#     # create data generator\n",
    "#     datagen = ImageDataGenerator(rescale=1.0/255.0)\n",
    "#     # prepare iterators\n",
    "#     train_it = datagen.flow_from_directory('dataset_dogs_vs_cats/train/',\n",
    "#         class_mode='binary', batch_size=64, target_size=(200, 200))\n",
    "#     test_it = datagen.flow_from_directory('dataset_dogs_vs_cats/test/',\n",
    "#         class_mode='binary', batch_size=64, target_size=(200, 200))\n",
    "#     # fit model\n",
    "#     history = model.fit_generator(train_it, steps_per_epoch=len(train_it),\n",
    "#         validation_data=test_it, validation_steps=len(test_it), epochs=20, verbose=0)\n",
    "#     # evaluate model\n",
    "#     _, acc = model.evaluate_generator(test_it, steps=len(test_it), verbose=0)\n",
    "#     print('> %.3f' % (acc * 100.0))\n",
    "#     # learning curves\n",
    "#     summarize_diagnostics(history)\n",
    "\n",
    "# # entry point, run the test harness\n",
    "# run_test_harness()\n"
   ]
  },
  {
   "cell_type": "code",
   "execution_count": null,
   "metadata": {},
   "outputs": [],
   "source": []
  }
 ],
 "metadata": {
  "kernelspec": {
   "display_name": "Python 3",
   "language": "python",
   "name": "python3"
  },
  "language_info": {
   "codemirror_mode": {
    "name": "ipython",
    "version": 3
   },
   "file_extension": ".py",
   "mimetype": "text/x-python",
   "name": "python",
   "nbconvert_exporter": "python",
   "pygments_lexer": "ipython3",
   "version": "3.8.5"
  }
 },
 "nbformat": 4,
 "nbformat_minor": 4
}
