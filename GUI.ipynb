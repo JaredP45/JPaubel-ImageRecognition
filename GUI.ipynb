{
 "cells": [
  {
   "cell_type": "code",
   "execution_count": 4,
   "metadata": {},
   "outputs": [
    {
     "name": "stdout",
     "output_type": "stream",
     "text": [
      "Selected: C:/Users/clayk/Downloads/cat.jpg\n"
     ]
    }
   ],
   "source": [
    "# Tkinter, Other\n",
    "import tkinter as tk\n",
    "from tkinter import filedialog\n",
    "from tkinter.filedialog import askopenfile\n",
    "from PIL import Image, ImageTk\n",
    "\n",
    "# Keras\n",
    "from keras.preprocessing.image import load_img\n",
    "from keras.preprocessing.image import img_to_array\n",
    "from keras.models import load_model\n",
    "\n",
    "\n",
    "my_w = tk.Tk()\n",
    "my_w.geometry(\"425x350\")  # Window size\n",
    "my_w.title('Cat or Dog?')\n",
    "my_font1 = ('times', 18, 'bold')\n",
    "\n",
    "l1 = tk.Label(my_w,text='Upload an image', width=30, font=my_font1)  \n",
    "l1.grid(row=1, column=1)\n",
    "b1 = tk.Button(my_w, text = 'Upload File', width=15,command = lambda:UploadFile())\n",
    "b1.grid(row=2, column=1) \n",
    "\n",
    "\n",
    "\n",
    "\n",
    "def UploadFile():\n",
    "    global img\n",
    "    f_types = [('Jpg Files', '*.jpg'), ('Png Files', '*.png')]\n",
    "    filename = filedialog.askopenfilename(filetypes=f_types)\n",
    "\n",
    "    img=Image.open(filename)\n",
    "    img_resized=img.resize((200,200))\n",
    "    img=ImageTk.PhotoImage(img_resized)\n",
    "\n",
    "    b2 =tk.Button(my_w,image=img)\n",
    "    b2.grid(row=3,column=1)\n",
    "    \n",
    "    l2 = tk.Label(my_w,text='This is a test', width=20, font=my_font1)\n",
    "    l2.grid(row=4,column=1)\n",
    "    \n",
    "    print('Selected:', filename)\n",
    "\n",
    "my_w.mainloop()  # Keep window open"
   ]
  },
  {
   "cell_type": "code",
   "execution_count": null,
   "metadata": {},
   "outputs": [],
   "source": []
  }
 ],
 "metadata": {
  "kernelspec": {
   "display_name": "Python 3",
   "language": "python",
   "name": "python3"
  },
  "language_info": {
   "codemirror_mode": {
    "name": "ipython",
    "version": 3
   },
   "file_extension": ".py",
   "mimetype": "text/x-python",
   "name": "python",
   "nbconvert_exporter": "python",
   "pygments_lexer": "ipython3",
   "version": "3.8.5"
  }
 },
 "nbformat": 4,
 "nbformat_minor": 5
}
